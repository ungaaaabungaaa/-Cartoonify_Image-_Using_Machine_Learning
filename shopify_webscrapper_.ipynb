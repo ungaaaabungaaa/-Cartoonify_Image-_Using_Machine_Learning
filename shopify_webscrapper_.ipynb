{
  "nbformat": 4,
  "nbformat_minor": 0,
  "metadata": {
    "colab": {
      "provenance": [],
      "authorship_tag": "ABX9TyPuJPnMbH1hrfbD5U1y4tgJ",
      "include_colab_link": true
    },
    "kernelspec": {
      "name": "python3",
      "display_name": "Python 3"
    },
    "language_info": {
      "name": "python"
    }
  },
  "cells": [
    {
      "cell_type": "markdown",
      "metadata": {
        "id": "view-in-github",
        "colab_type": "text"
      },
      "source": [
        "<a href=\"https://colab.research.google.com/github/theheld/-Cartoonify_Image-_Using_Machine_Learning/blob/main/shopify_webscrapper_.ipynb\" target=\"_parent\"><img src=\"https://colab.research.google.com/assets/colab-badge.svg\" alt=\"Open In Colab\"/></a>"
      ]
    },
    {
      "cell_type": "code",
      "execution_count": null,
      "metadata": {
        "id": "aY8fTGgh_YBE"
      },
      "outputs": [],
      "source": [
        "import requests\n",
        "import json\n",
        "import pandas as pd\n"
      ]
    },
    {
      "cell_type": "code",
      "source": [
        "# change page=2,3,4,5 depending upon the product list \n",
        "url ='https://www.tpstech.in/products.json?limit=250&page=1'\n",
        "r=requests.get(url)"
      ],
      "metadata": {
        "id": "1a6PFmB__eqo"
      },
      "execution_count": null,
      "outputs": []
    },
    {
      "cell_type": "code",
      "source": [
        "data =r.json()\n",
        "\n",
        "product_list=[]\n",
        "\n",
        "for item in data['products']:\n",
        "  title=item['title']\n",
        "  tags=item['tags']\n",
        "  vendor=item['vendor']\n",
        "  product_type=item['product_type']\n",
        "  \n",
        "\n",
        "  for image in item['images']:\n",
        "      try:\n",
        "        imagesrc=image['src']\n",
        "      except:\n",
        "        imagesrc='None'  \n",
        "  for variant in item['variants']:\n",
        "    price=variant['price']\n",
        "    compare_at_price=variant['compare_at_price']\n",
        "    \n",
        "    product ={\n",
        "        'title': title,\n",
        "        'tags': tags,\n",
        "        'vendor': vendor,\n",
        "         'product_type': product_type,\n",
        "         'price': price,\n",
        "         'compare_at_price': compare_at_price,\n",
        "         'image': imagesrc,\n",
        "    }\n",
        "\n",
        "    product_list.append(product)\n",
        "\n",
        "\n",
        "df=pd.DataFrame(product_list)\n",
        "df.to_csv('testrun.csv')\n",
        "# exporting the testrun.csv outside the google colab\n",
        "from google.colab import files\n",
        "files.download(\"testrun.csv\")\n",
        "print('saved to file.')\n",
        "\n",
        "\n"
      ],
      "metadata": {
        "id": "jpoZW0Ev_q6_",
        "colab": {
          "base_uri": "https://localhost:8080/",
          "height": 34
        },
        "outputId": "451f6aea-8006-4fbe-cbb7-7f1f37b50634"
      },
      "execution_count": null,
      "outputs": [
        {
          "output_type": "display_data",
          "data": {
            "text/plain": [
              "<IPython.core.display.Javascript object>"
            ],
            "application/javascript": [
              "\n",
              "    async function download(id, filename, size) {\n",
              "      if (!google.colab.kernel.accessAllowed) {\n",
              "        return;\n",
              "      }\n",
              "      const div = document.createElement('div');\n",
              "      const label = document.createElement('label');\n",
              "      label.textContent = `Downloading \"${filename}\": `;\n",
              "      div.appendChild(label);\n",
              "      const progress = document.createElement('progress');\n",
              "      progress.max = size;\n",
              "      div.appendChild(progress);\n",
              "      document.body.appendChild(div);\n",
              "\n",
              "      const buffers = [];\n",
              "      let downloaded = 0;\n",
              "\n",
              "      const channel = await google.colab.kernel.comms.open(id);\n",
              "      // Send a message to notify the kernel that we're ready.\n",
              "      channel.send({})\n",
              "\n",
              "      for await (const message of channel.messages) {\n",
              "        // Send a message to notify the kernel that we're ready.\n",
              "        channel.send({})\n",
              "        if (message.buffers) {\n",
              "          for (const buffer of message.buffers) {\n",
              "            buffers.push(buffer);\n",
              "            downloaded += buffer.byteLength;\n",
              "            progress.value = downloaded;\n",
              "          }\n",
              "        }\n",
              "      }\n",
              "      const blob = new Blob(buffers, {type: 'application/binary'});\n",
              "      const a = document.createElement('a');\n",
              "      a.href = window.URL.createObjectURL(blob);\n",
              "      a.download = filename;\n",
              "      div.appendChild(a);\n",
              "      a.click();\n",
              "      div.remove();\n",
              "    }\n",
              "  "
            ]
          },
          "metadata": {}
        },
        {
          "output_type": "display_data",
          "data": {
            "text/plain": [
              "<IPython.core.display.Javascript object>"
            ],
            "application/javascript": [
              "download(\"download_0f3872cc-4292-4530-8ed2-6e4d3f3e55cf\", \"testrun.csv\", 112151)"
            ]
          },
          "metadata": {}
        },
        {
          "output_type": "stream",
          "name": "stdout",
          "text": [
            "saved to file.\n"
          ]
        }
      ]
    }
  ]
}